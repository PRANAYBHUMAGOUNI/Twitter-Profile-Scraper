{
 "cells": [
  {
   "cell_type": "markdown",
   "id": "944492fd-68ea-4de0-a50e-643445a4052d",
   "metadata": {},
   "source": [
    "# Importing necessary libraries"
   ]
  },
  {
   "cell_type": "code",
   "execution_count": 1,
   "id": "6a377584-7064-4277-91e8-51e298d24de4",
   "metadata": {},
   "outputs": [],
   "source": [
    "from selenium import webdriver\n",
    "from selenium.webdriver.common.by import By\n",
    "from selenium.webdriver.edge.service import Service\n",
    "from selenium.webdriver.support.ui import WebDriverWait\n",
    "from selenium.webdriver.support import expected_conditions as EC\n",
    "from selenium.webdriver.common.keys import Keys\n",
    "from selenium.common.exceptions import TimeoutException, NoSuchElementException\n",
    "import time\n",
    "import csv\n",
    "import os\n",
    "from dotenv import load_dotenv"
   ]
  },
  {
   "cell_type": "markdown",
   "id": "67a21422-a0e0-4719-99e4-f2dd6bbae983",
   "metadata": {},
   "source": [
    "# Loading environment variables from .env file for sensitive information"
   ]
  },
  {
   "cell_type": "code",
   "execution_count": 2,
   "id": "e2441bbf-321a-4955-b8fc-14e0a246ca07",
   "metadata": {},
   "outputs": [
    {
     "data": {
      "text/plain": [
       "False"
      ]
     },
     "execution_count": 2,
     "metadata": {},
     "output_type": "execute_result"
    }
   ],
   "source": [
    "load_dotenv()"
   ]
  },
  {
   "cell_type": "markdown",
   "id": "45737fee-a867-4815-a621-4fd66cd291e0",
   "metadata": {},
   "source": [
    "# Defining a list of Twitter URLs to scrape"
   ]
  },
  {
   "cell_type": "code",
   "execution_count": 3,
   "id": "e81b6df1-efff-4ab8-80e6-648ebac4b166",
   "metadata": {},
   "outputs": [],
   "source": [
    "TWITTER_URLS = [\n",
    "    \"https://twitter.com/GTNUK1\",\n",
    "    \"https://twitter.com/whatsapp\",\n",
    "    \"https://twitter.com/aacb_CBPTrade\",\n",
    "    \"https://twitter.com/aacbdotcom\",\n",
    "    \"https://twitter.com/@AAWindowPRODUCT\",\n",
    "    \"https://www.twitter.com/aandb_kia\",\n",
    "    \"https://twitter.com/ABHomeInc\",\n",
    "    \"https://twitter.com/Abrepro\",\n",
    "    \"http://www.twitter.com\",\n",
    "    \"https://twitter.com/ACChristofiLtd\",\n",
    "    \"https://twitter.com/aeclothing1\",\n",
    "    \"http://www.twitter.com/\",\n",
    "    \"https://twitter.com/AETechnologies1\",\n",
    "    \"http://www.twitter.com/wix\",\n",
    "    \"https://twitter.com/AGInsuranceLLC\"\n",
    "]"
   ]
  },
  {
   "cell_type": "markdown",
   "id": "a59321a5-a961-4692-b92d-b0886b6df0b6",
   "metadata": {},
   "source": [
    "# Function to initialize and configure the Microsoft Edge WebDriver"
   ]
  },
  {
   "cell_type": "code",
   "execution_count": 4,
   "id": "b05b5187-8021-4139-b349-6de3652fd7c1",
   "metadata": {},
   "outputs": [],
   "source": [
    "def setup_driver():\n",
    "    options = webdriver.EdgeOptions()\n",
    "    # options.add_argument('--headless')\n",
    "    \n",
    "    options.add_argument('--disable-gpu')\n",
    "    options.add_argument('--no-sandbox')\n",
    "    options.add_argument('--disable-dev-shm-usage')\n",
    "    options.add_argument('--lang=en')\n",
    "    options.add_argument('--window-size=1920,1080')\n",
    "    \n",
    "    # Setting user agent for the browser\n",
    "    options.add_argument('user-agent=Mozilla/5.0 (Windows NT 10.0; Win64; x64) Edge/91.0.864.59')\n",
    "    \n",
    "    # Getting Edge driver path from environment variable \n",
    "    EDGE_DRIVER_PATH = os.getenv('EDGE_DRIVER_PATH', r\"C:\\Users\\bshiv\\Downloads\\edgedriver_win64\\msedgedriver.exe\")\n",
    "    \n",
    "    service = Service(EDGE_DRIVER_PATH)\n",
    "    return webdriver.Edge(service=service, options=options)"
   ]
  },
  {
   "cell_type": "markdown",
   "id": "f24adc55-f847-4ca2-b56b-ca96bf7d143c",
   "metadata": {},
   "source": [
    "# Function to log in to Twitter using provided credentials"
   ]
  },
  {
   "cell_type": "code",
   "execution_count": 5,
   "id": "da6fdcb3-bd66-4322-977c-588d11e8776e",
   "metadata": {},
   "outputs": [],
   "source": [
    "def login_to_twitter(driver, username, password, email=None):\n",
    "    try:\n",
    "        # Opening Twitter login page\n",
    "        driver.get('https://twitter.com/login')\n",
    "        time.sleep(3)\n",
    "        \n",
    "        # Entering username/email/password\n",
    "        username_field = WebDriverWait(driver, 10).until(\n",
    "            EC.presence_of_element_located((By.XPATH, \"//input[@autocomplete='username']\"))\n",
    "        )\n",
    "        username_field.send_keys(username + Keys.RETURN)\n",
    "        time.sleep(2)\n",
    "\n",
    "        # Handling unusual login activity verification \n",
    "        try:\n",
    "            verification_field = WebDriverWait(driver, 5).until(\n",
    "                EC.presence_of_element_located((By.XPATH, \"//input[@data-testid='ocfEnterTextTextInput']\"))\n",
    "            )\n",
    "            verification_field.send_keys(email if email else username + Keys.RETURN)\n",
    "            time.sleep(3)\n",
    "\n",
    "            # Checking for any additional verification steps\n",
    "            WebDriverWait(driver, 5).until(\n",
    "                EC.presence_of_element_located((By.XPATH, \"//input[@data-testid='ocfEnterTextTextInput']\"))\n",
    "            )\n",
    "            print(\"Additional verification step detected. Please handle manually.\")\n",
    "            return False\n",
    "            \n",
    "        except TimeoutException:\n",
    "            print(\"No unusual activity verification required.\")\n",
    "\n",
    "        # Entering password\n",
    "        password_field = WebDriverWait(driver, 10).until(\n",
    "            EC.presence_of_element_located((By.XPATH, \"//input[@name='password']\"))\n",
    "        )\n",
    "        password_field.send_keys(password + Keys.RETURN)\n",
    "        time.sleep(5)\n",
    "\n",
    "        # Checking for successful login confirmation\n",
    "        WebDriverWait(driver, 10).until(\n",
    "            EC.presence_of_element_located((By.CSS_SELECTOR, '[data-testid=\"primaryColumn\"]'))\n",
    "        )\n",
    "        print(\"Login successful!\")\n",
    "        return True\n",
    "\n",
    "    except Exception as e:\n",
    "        print(f\"Login failed: {str(e)}\")\n",
    "        return False\n"
   ]
  },
  {
   "cell_type": "markdown",
   "id": "49bf0327-ece7-466c-b974-473fa518f7f0",
   "metadata": {},
   "source": [
    "# Function to clean and validate Twitter URLs"
   ]
  },
  {
   "cell_type": "code",
   "execution_count": 6,
   "id": "6e7888be-a910-471c-80e5-902b79acd283",
   "metadata": {},
   "outputs": [],
   "source": [
    "def clean_url(url):\n",
    "    if not url or 'twitter.com' not in url:\n",
    "        return None\n",
    "    \n",
    "    url = url.replace('@', '')  # Removing '@' symbol if present\n",
    "    \n",
    "    if not url.startswith('http'):\n",
    "        url = 'https://' + url  # Ensuring URL starts with 'https'\n",
    "    \n",
    "    return url.replace('http://', 'https://').replace('www.twitter.com', 'twitter.com')"
   ]
  },
  {
   "cell_type": "markdown",
   "id": "fec4632a-4f6d-46df-ac57-6e353abd5ac7",
   "metadata": {},
   "source": [
    "# Function to scrape Twitter profile information"
   ]
  },
  {
   "cell_type": "code",
   "execution_count": 7,
   "id": "263278c5-5f63-4ddb-b3c7-cd5f7b869d0b",
   "metadata": {},
   "outputs": [],
   "source": [
    "def scrape_profile(driver, url):\n",
    "    profile_data = {\n",
    "        'url': url,\n",
    "        'bio': '',\n",
    "        'following_count': '',\n",
    "        'followers_count': '',\n",
    "        'location': '',\n",
    "        'website': ''\n",
    "    }\n",
    "    \n",
    "    try:\n",
    "        driver.get(url)\n",
    "        time.sleep(5)\n",
    "\n",
    "        # Scraping bio information\n",
    "        try:\n",
    "            profile_data['bio'] = WebDriverWait(driver, 10).until(\n",
    "                EC.presence_of_element_located((By.CSS_SELECTOR, '[data-testid=\"UserDescription\"]'))\n",
    "            ).text\n",
    "        except NoSuchElementException:\n",
    "            print(\"Bio not found.\")\n",
    "\n",
    "        # Scraping following count with backup method if necessary\n",
    "        try:\n",
    "            following_element = WebDriverWait(driver, 10).until(\n",
    "                EC.presence_of_element_located((By.CSS_SELECTOR, 'a[href$=\"/following\"] span span'))\n",
    "            )\n",
    "            profile_data['following_count'] = following_element.text\n",
    "        except Exception as e:\n",
    "            print(f\"Following count error: {str(e)}\")\n",
    "            profile_data['following_count'] = extract_count(driver, 'Following')\n",
    "\n",
    "        # Scraping followers count using a similar method as above\n",
    "        profile_data['followers_count'] = extract_count(driver, 'Followers')\n",
    "\n",
    "        # Scraping location and website information if available\n",
    "        try:\n",
    "            profile_data['location'] = driver.find_element(By.CSS_SELECTOR, '[data-testid=\"UserLocation\"]').text\n",
    "        except NoSuchElementException:\n",
    "            print(\"Location not found.\")\n",
    "\n",
    "        try:\n",
    "            profile_data['website'] = driver.find_element(By.CSS_SELECTOR, '[data-testid=\"UserUrl\"]').text\n",
    "        except NoSuchElementException:\n",
    "            print(\"Website not found.\")\n",
    "\n",
    "    except Exception as e:\n",
    "        print(f\"Error scraping {url}: {str(e)}\")\n",
    "    \n",
    "    return profile_data\n"
   ]
  },
  {
   "cell_type": "markdown",
   "id": "823220c8-d879-4deb-a6be-9a3d0784af3c",
   "metadata": {},
   "source": [
    "# Function to extract counts of followers or following based on label"
   ]
  },
  {
   "cell_type": "code",
   "execution_count": 8,
   "id": "44810776-d5a8-4f03-b7be-a57d8d0e21d6",
   "metadata": {},
   "outputs": [],
   "source": [
    "def extract_count(driver, label):\n",
    "    try:\n",
    "        all_spans = driver.find_elements(By.TAG_NAME, 'span')\n",
    "        \n",
    "        for span in all_spans:\n",
    "            if label in span.get_attribute('innerHTML'):\n",
    "                parent = span.find_element(By.XPATH, './..')\n",
    "                count_span = parent.find_element(By.XPATH, './/span[contains(@class, \"css-\")]')\n",
    "                return count_span.text\n",
    "\n",
    "    except Exception as e:\n",
    "        print(f\"{label} count extraction error: {str(e)}\")\n",
    "    \n",
    "    return ''"
   ]
  },
  {
   "cell_type": "markdown",
   "id": "d73d87a8-1e35-4e57-848d-696a5f8b5219",
   "metadata": {},
   "source": [
    "# Function to save scraped results to a CSV file"
   ]
  },
  {
   "cell_type": "code",
   "execution_count": 9,
   "id": "09b9ec5c-5605-4340-8787-a9983cc56caf",
   "metadata": {},
   "outputs": [],
   "source": [
    "def save_to_csv(results):\n",
    "    output_file = 'twitter_profiles.csv'\n",
    "    \n",
    "    with open(output_file, 'w', newline='', encoding='utf-8') as csvfile:\n",
    "        fieldnames = ['url', 'bio', 'following_count', 'followers_count', 'location', 'website']\n",
    "        \n",
    "        writer = csv.DictWriter(csvfile, fieldnames=fieldnames)\n",
    "        \n",
    "        writer.writeheader()  \n",
    "        writer.writerows(results)  \n",
    "        \n",
    "    print(f\"\\nData saved to {output_file}\")"
   ]
  },
  {
   "cell_type": "markdown",
   "id": "3cb3598f-82ab-4079-a791-b6abf34b5c30",
   "metadata": {},
   "source": [
    "# Main function to coordinate the scraping process and handle execution flow"
   ]
  },
  {
   "cell_type": "code",
   "execution_count": 10,
   "id": "20d4f741-a7e7-4bd0-ace6-da778a532de7",
   "metadata": {},
   "outputs": [],
   "source": [
    "def main():\n",
    "    TWITTER_USERNAME = os.getenv('TWITTER_USERNAME', \"Pranay_283\")\n",
    "    TWITTER_PASSWORD = os.getenv('TWITTER_PASSWORD', \"Pranay@283\")\n",
    "    TWITTER_EMAIL = os.getenv('TWITTER_EMAIL', \"pranaybhumagouni@gmail.com\")  \n",
    "    \n",
    "    driver = setup_driver()  \n",
    "    \n",
    "    results = []  \n",
    "    \n",
    "    try:\n",
    "        if not login_to_twitter(driver, TWITTER_USERNAME, TWITTER_PASSWORD, TWITTER_EMAIL):\n",
    "            print(\"Failed to login. Exiting...\")\n",
    "            return\n",
    "        \n",
    "        for url in TWITTER_URLS:  \n",
    "            cleaned_url = clean_url(url)  \n",
    "            \n",
    "            if cleaned_url:\n",
    "                print(f\"\\nProcessing: {cleaned_url}\")\n",
    "                profile_data = scrape_profile(driver, cleaned_url)  \n",
    "                \n",
    "                print(\"Scraped data:\", profile_data)  \n",
    "                \n",
    "                results.append(profile_data)  \n",
    "                \n",
    "                time.sleep(3)  \n",
    "            \n",
    "            else:\n",
    "                print(f\"Skipping invalid URL: {url}\")\n",
    "        \n",
    "        save_to_csv(results)  \n",
    "        \n",
    "    finally:\n",
    "        driver.quit()  "
   ]
  },
  {
   "cell_type": "markdown",
   "id": "4581278b-6eb6-4e3d-87ce-1454f241c151",
   "metadata": {},
   "source": [
    "# Executing the main function to run script directly "
   ]
  },
  {
   "cell_type": "code",
   "execution_count": 11,
   "id": "6a6a1980-7bd0-4d72-adb4-8f5adec23290",
   "metadata": {},
   "outputs": [
    {
     "name": "stdout",
     "output_type": "stream",
     "text": [
      "No unusual activity verification required.\n",
      "Login successful!\n",
      "\n",
      "Processing: https://twitter.com/GTNUK1\n",
      "Scraped data: {'url': 'https://twitter.com/GTNUK1', 'bio': 'Providing Entertainment & Travel to Commercial Radio. Reaching 28.9M weekly listeners. Winners of The Arqiva National Sales Team of the Year 2010, 2011 & 2016', 'following_count': '446', 'followers_count': '125', 'location': 'London, England', 'website': 'gtn.uk.com/index.php'}\n",
      "\n",
      "Processing: https://twitter.com/whatsapp\n",
      "Scraped data: {'url': 'https://twitter.com/whatsapp', 'bio': 'message privately with WhatsApp', 'following_count': '5', 'followers_count': '5.5M', 'location': 'California', 'website': 'bit.ly/WatchPushPush'}\n",
      "\n",
      "Processing: https://twitter.com/aacb_CBPTrade\n",
      "Website not found.\n",
      "Scraped data: {'url': 'https://twitter.com/aacb_CBPTrade', 'bio': 'Customs Broker', 'following_count': '124', 'followers_count': '34', 'location': 'Florida, USA', 'website': ''}\n",
      "\n",
      "Processing: https://twitter.com/aacbdotcom\n",
      "Scraped data: {'url': 'https://twitter.com/aacbdotcom', 'bio': 'A & A Freight | Warehousing | Customs Brokerage | Helping people ship across borders.', 'following_count': '3,813', 'followers_count': '651', 'location': 'Worldwide', 'website': 'aacb.com'}\n",
      "\n",
      "Processing: https://twitter.com/AAWindowPRODUCT\n",
      "Scraped data: {'url': 'https://twitter.com/AAWindowPRODUCT', 'bio': 'A commercial glass and glazing company serving the window industry in New England since 1954. #SafetyQualityService', 'following_count': '88', 'followers_count': '80', 'location': 'Malden, MA', 'website': 'aawindowproducts.com'}\n",
      "\n",
      "Processing: https://twitter.com/aandb_kia\n",
      "Scraped data: {'url': 'https://twitter.com/aandb_kia', 'bio': 'A&B Kia is a Kia dealer in Benwood, WV. Stay connected to exceed expectations. Build strong relationships. Drive the best with us.', 'following_count': '330', 'followers_count': '295', 'location': 'Benwood, West Virginia ', 'website': 'aandbautosales.com'}\n",
      "\n",
      "Processing: https://twitter.com/ABHomeInc\n",
      "Scraped data: {'url': 'https://twitter.com/ABHomeInc', 'bio': 'Industry leader in wholesale home decor, furniture, and garden, since 1993.', 'following_count': '176', 'followers_count': '361', 'location': 'Rancho Cucamonga, CA', 'website': 'abhomeinc.com'}\n",
      "\n",
      "Processing: https://twitter.com/Abrepro\n",
      "Scraped data: {'url': 'https://twitter.com/Abrepro', 'bio': 'From large format black & white prints to the most sophisticated of digital color printing jobs, A & B can get the job done right.', 'following_count': '123', 'followers_count': '131', 'location': 'Bentonville, AR', 'website': 'abrepro.com'}\n",
      "\n",
      "Processing: https://twitter.com\n",
      "Error scraping https://twitter.com: Message: \n",
      "Stacktrace:\n",
      "\tGetHandleVerifier [0x00007FF6DE860AF5+13637]\n",
      "\tMicrosoft::Applications::Events::EventProperty::empty [0x00007FF6DEAEBC04+2078868]\n",
      "\tMicrosoft::Applications::Events::EventProperty::empty [0x00007FF6DEA466E6+1401718]\n",
      "\t(No symbol) [0x00007FF6DE61D83C]\n",
      "\t(No symbol) [0x00007FF6DE61D9FB]\n",
      "\t(No symbol) [0x00007FF6DE65B027]\n",
      "\t(No symbol) [0x00007FF6DE63DE0F]\n",
      "\t(No symbol) [0x00007FF6DE613DA7]\n",
      "\t(No symbol) [0x00007FF6DE6588FD]\n",
      "\t(No symbol) [0x00007FF6DE63DA33]\n",
      "\t(No symbol) [0x00007FF6DE6132F4]\n",
      "\t(No symbol) [0x00007FF6DE612626]\n",
      "\t(No symbol) [0x00007FF6DE612EE1]\n",
      "\t(No symbol) [0x00007FF6DE69E194]\n",
      "\t(No symbol) [0x00007FF6DE74607F]\n",
      "\t(No symbol) [0x00007FF6DE6A1B83]\n",
      "\tMicrosoft::Applications::Events::EventProperty::to_string [0x00007FF6DEBA81F9+269801]\n",
      "\tMicrosoft::Applications::Events::ILogConfiguration::operator* [0x00007FF6DE7F71B1+519377]\n",
      "\tMicrosoft::Applications::Events::ILogConfiguration::operator* [0x00007FF6DE7F24A4+499652]\n",
      "\tMicrosoft::Applications::Events::ILogConfiguration::operator* [0x00007FF6DE7F25E9+499977]\n",
      "\tMicrosoft::Applications::Events::ILogConfiguration::operator* [0x00007FF6DE7E7566+454790]\n",
      "\tBaseThreadInitThunk [0x00007FF9F44EE8D7+23]\n",
      "\tRtlUserThreadStart [0x00007FF9F585FBCC+44]\n",
      "\n",
      "Scraped data: {'url': 'https://twitter.com', 'bio': '', 'following_count': '', 'followers_count': '', 'location': '', 'website': ''}\n",
      "\n",
      "Processing: https://twitter.com/ACChristofiLtd\n",
      "Scraped data: {'url': 'https://twitter.com/ACChristofiLtd', 'bio': 'A & C CHRISTOFI LTD is a fast growing professional services company based in Limassol, Cyprus. Our main Concern is your Business.', 'following_count': '291', 'followers_count': '90', 'location': 'Cyprus', 'website': 'acccyp.com'}\n",
      "\n",
      "Processing: https://twitter.com/aeclothing1\n",
      "Scraped data: {'url': 'https://twitter.com/aeclothing1', 'bio': 'Used Clothing Distributor', 'following_count': '0', 'followers_count': '17', 'location': 'Carteret', 'website': 'aeclothing.net'}\n",
      "\n",
      "Processing: https://twitter.com/\n",
      "Error scraping https://twitter.com/: Message: \n",
      "Stacktrace:\n",
      "\tGetHandleVerifier [0x00007FF6DE860AF5+13637]\n",
      "\tMicrosoft::Applications::Events::EventProperty::empty [0x00007FF6DEAEBC04+2078868]\n",
      "\tMicrosoft::Applications::Events::EventProperty::empty [0x00007FF6DEA466E6+1401718]\n",
      "\t(No symbol) [0x00007FF6DE61D83C]\n",
      "\t(No symbol) [0x00007FF6DE61D9FB]\n",
      "\t(No symbol) [0x00007FF6DE65B027]\n",
      "\t(No symbol) [0x00007FF6DE63DE0F]\n",
      "\t(No symbol) [0x00007FF6DE613DA7]\n",
      "\t(No symbol) [0x00007FF6DE6588FD]\n",
      "\t(No symbol) [0x00007FF6DE63DA33]\n",
      "\t(No symbol) [0x00007FF6DE6132F4]\n",
      "\t(No symbol) [0x00007FF6DE612626]\n",
      "\t(No symbol) [0x00007FF6DE612EE1]\n",
      "\t(No symbol) [0x00007FF6DE69E194]\n",
      "\t(No symbol) [0x00007FF6DE74607F]\n",
      "\t(No symbol) [0x00007FF6DE6A1B83]\n",
      "\tMicrosoft::Applications::Events::EventProperty::to_string [0x00007FF6DEBA81F9+269801]\n",
      "\tMicrosoft::Applications::Events::ILogConfiguration::operator* [0x00007FF6DE7F71B1+519377]\n",
      "\tMicrosoft::Applications::Events::ILogConfiguration::operator* [0x00007FF6DE7F24A4+499652]\n",
      "\tMicrosoft::Applications::Events::ILogConfiguration::operator* [0x00007FF6DE7F25E9+499977]\n",
      "\tMicrosoft::Applications::Events::ILogConfiguration::operator* [0x00007FF6DE7E7566+454790]\n",
      "\tBaseThreadInitThunk [0x00007FF9F44EE8D7+23]\n",
      "\tRtlUserThreadStart [0x00007FF9F585FBCC+44]\n",
      "\n",
      "Scraped data: {'url': 'https://twitter.com/', 'bio': '', 'following_count': '', 'followers_count': '', 'location': '', 'website': ''}\n",
      "\n",
      "Processing: https://twitter.com/AETechnologies1\n",
      "Error scraping https://twitter.com/AETechnologies1: Message: \n",
      "Stacktrace:\n",
      "\tGetHandleVerifier [0x00007FF6DE860AF5+13637]\n",
      "\tMicrosoft::Applications::Events::EventProperty::empty [0x00007FF6DEAEBC04+2078868]\n",
      "\tMicrosoft::Applications::Events::EventProperty::empty [0x00007FF6DEA466E6+1401718]\n",
      "\t(No symbol) [0x00007FF6DE61D83C]\n",
      "\t(No symbol) [0x00007FF6DE61D9FB]\n",
      "\t(No symbol) [0x00007FF6DE65B027]\n",
      "\t(No symbol) [0x00007FF6DE63DE0F]\n",
      "\t(No symbol) [0x00007FF6DE613DA7]\n",
      "\t(No symbol) [0x00007FF6DE6588FD]\n",
      "\t(No symbol) [0x00007FF6DE63DA33]\n",
      "\t(No symbol) [0x00007FF6DE6132F4]\n",
      "\t(No symbol) [0x00007FF6DE612626]\n",
      "\t(No symbol) [0x00007FF6DE612EE1]\n",
      "\t(No symbol) [0x00007FF6DE69E194]\n",
      "\t(No symbol) [0x00007FF6DE74607F]\n",
      "\t(No symbol) [0x00007FF6DE6A1B83]\n",
      "\tMicrosoft::Applications::Events::EventProperty::to_string [0x00007FF6DEBA81F9+269801]\n",
      "\tMicrosoft::Applications::Events::ILogConfiguration::operator* [0x00007FF6DE7F71B1+519377]\n",
      "\tMicrosoft::Applications::Events::ILogConfiguration::operator* [0x00007FF6DE7F24A4+499652]\n",
      "\tMicrosoft::Applications::Events::ILogConfiguration::operator* [0x00007FF6DE7F25E9+499977]\n",
      "\tMicrosoft::Applications::Events::ILogConfiguration::operator* [0x00007FF6DE7E7566+454790]\n",
      "\tBaseThreadInitThunk [0x00007FF9F44EE8D7+23]\n",
      "\tRtlUserThreadStart [0x00007FF9F585FBCC+44]\n",
      "\n",
      "Scraped data: {'url': 'https://twitter.com/AETechnologies1', 'bio': '', 'following_count': '', 'followers_count': '', 'location': '', 'website': ''}\n",
      "\n",
      "Processing: https://twitter.com/wix\n",
      "Scraped data: {'url': 'https://twitter.com/wix', 'bio': 'Create, manage and grow your business online with Wix. It’s more than just a website builder, it’s how your vision comes to life. For support: \\n@WixHelp\\n.', 'following_count': '3,685', 'followers_count': '413.6K', 'location': \"We're everywhere!\", 'website': 'wix.com'}\n",
      "\n",
      "Processing: https://twitter.com/AGInsuranceLLC\n",
      "Scraped data: {'url': 'https://twitter.com/AGInsuranceLLC', 'bio': 'A & G Insurance prides itself on being your local, full service, Independent Insurance Agency.', 'following_count': '255', 'followers_count': '43', 'location': 'Connecticut', 'website': 'aginsuranceinc.com'}\n",
      "\n",
      "Data saved to twitter_profiles.csv\n"
     ]
    }
   ],
   "source": [
    "if __name__ == \"__main__\":\n",
    "   main()"
   ]
  },
  {
   "cell_type": "code",
   "execution_count": null,
   "id": "85e54fed-e639-4700-9e1c-0e944ee7b577",
   "metadata": {},
   "outputs": [],
   "source": []
  }
 ],
 "metadata": {
  "kernelspec": {
   "display_name": "Python 3 (ipykernel)",
   "language": "python",
   "name": "python3"
  },
  "language_info": {
   "codemirror_mode": {
    "name": "ipython",
    "version": 3
   },
   "file_extension": ".py",
   "mimetype": "text/x-python",
   "name": "python",
   "nbconvert_exporter": "python",
   "pygments_lexer": "ipython3",
   "version": "3.11.9"
  }
 },
 "nbformat": 4,
 "nbformat_minor": 5
}
